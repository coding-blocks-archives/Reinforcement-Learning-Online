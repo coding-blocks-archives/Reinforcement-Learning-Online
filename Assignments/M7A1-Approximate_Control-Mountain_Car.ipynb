{
 "cells": [
  {
   "cell_type": "markdown",
   "metadata": {},
   "source": [
    "## Mountain Car\n",
    "1. A car is on a one-dimensional track, positioned between two \"mountains\". The goal is to drive up the mountain on the right; however, the car's engine is not strong enough to scale the mountain in a single pass. Therefore, the only way to succeed is to drive back and forth to build up momentum.\n",
    "2. State is continuous in two dimensions:\n",
    "\ta. Position from -1.2 to 0.6\n",
    "\tb. Velocity from -0.07 to 0.07\n",
    "3. Action is discrete:\n",
    "\ta. 0 : Push left\n",
    "\tb. 1 : No push\n",
    "\tc. 2 : Push right\n",
    "4. Reward is -1 for each time step, until goal position of 0.5 is reached.  There is no penalty for climbing the left hill, which upon reached acts as a wall.\n",
    "5. Episode starts in a random position from -0.6 to -0.4 with no velocity.\n",
    "6. The episode ends when you reach 0.5 position, or if 200 iterations are reached.\n",
    "<img src=\"images/M7A1-P1.jpg\" alt=\"M4A1-P3\" width=\"500\"/>"
   ]
  },
  {
   "cell_type": "code",
   "execution_count": 1,
   "metadata": {},
   "outputs": [],
   "source": [
    "import gym\n",
    "import numpy as np\n",
    "from typing import Callable, List, Tuple, Sequence\n",
    "from collections import defaultdict\n",
    "import sys\n",
    "import plots\n",
    "import matplotlib.pyplot as plt\n",
    "\n",
    "%matplotlib inline"
   ]
  },
  {
   "cell_type": "code",
   "execution_count": 3,
   "metadata": {},
   "outputs": [],
   "source": [
    "env = gym.make('MountainCar-v0')"
   ]
  },
  {
   "cell_type": "code",
   "execution_count": 4,
   "metadata": {},
   "outputs": [
    {
     "data": {
      "text/plain": [
       "Box(2,)"
      ]
     },
     "execution_count": 4,
     "metadata": {},
     "output_type": "execute_result"
    }
   ],
   "source": [
    "env.observation_space"
   ]
  },
  {
   "cell_type": "code",
   "execution_count": 5,
   "metadata": {},
   "outputs": [
    {
     "data": {
      "text/plain": [
       "Discrete(3)"
      ]
     },
     "execution_count": 5,
     "metadata": {},
     "output_type": "execute_result"
    }
   ],
   "source": [
    "env.action_space"
   ]
  },
  {
   "cell_type": "code",
   "execution_count": 6,
   "metadata": {},
   "outputs": [
    {
     "data": {
      "text/plain": [
       "array([-1.2 , -0.07], dtype=float32)"
      ]
     },
     "execution_count": 6,
     "metadata": {},
     "output_type": "execute_result"
    }
   ],
   "source": [
    "env.observation_space.low"
   ]
  },
  {
   "cell_type": "code",
   "execution_count": 7,
   "metadata": {},
   "outputs": [
    {
     "data": {
      "text/plain": [
       "array([0.6 , 0.07], dtype=float32)"
      ]
     },
     "execution_count": 7,
     "metadata": {},
     "output_type": "execute_result"
    }
   ],
   "source": [
    "env.observation_space.high"
   ]
  },
  {
   "cell_type": "code",
   "execution_count": null,
   "metadata": {},
   "outputs": [],
   "source": []
  },
  {
   "cell_type": "code",
   "execution_count": null,
   "metadata": {},
   "outputs": [],
   "source": []
  },
  {
   "cell_type": "code",
   "execution_count": 9,
   "metadata": {},
   "outputs": [],
   "source": [
    "\"\"\"\n",
    "Tile Coding Software version 3.0beta\n",
    "by Rich Sutton\n",
    "based on a program created by Steph Schaeffer and others\n",
    "External documentation and recommendations on the use of this code is available in the \n",
    "reinforcement learning textbook by Sutton and Barto, and on the web.\n",
    "These need to be understood before this code is.\n",
    "\n",
    "This software is for Python 3 or more.\n",
    "\n",
    "This is an implementation of grid-style tile codings, based originally on\n",
    "the UNH CMAC code (see http://www.ece.unh.edu/robots/cmac.htm), but by now highly changed. \n",
    "Here we provide a function, \"tiles\", that maps floating and integer\n",
    "variables to a list of tiles, and a second function \"tiles-wrap\" that does the same while\n",
    "wrapping some floats to provided widths (the lower wrap value is always 0).\n",
    "\n",
    "The float variables will be gridded at unit intervals, so generalization\n",
    "will be by approximately 1 in each direction, and any scaling will have \n",
    "to be done externally before calling tiles.\n",
    "\n",
    "Num-tilings should be a power of 2, e.g., 16. To make the offsetting work properly, it should\n",
    "also be greater than or equal to four times the number of floats.\n",
    "\n",
    "The first argument is either an index hash table of a given size (created by (make-iht size)), \n",
    "an integer \"size\" (range of the indices from 0), or nil (for testing, indicating that the tile \n",
    "coordinates are to be returned without being converted to indices).\n",
    "\"\"\"\n",
    "from math import floor, log\n",
    "from itertools import zip_longest\n",
    "\n",
    "basehash = hash\n",
    "\n",
    "class IHT:\n",
    "    \"Structure to handle collisions\"\n",
    "    def __init__(self, sizeval):\n",
    "        self.size = sizeval                        \n",
    "        self.overfullCount = 0\n",
    "        self.dictionary = {}\n",
    "\n",
    "    def __str__(self):\n",
    "        \"Prepares a string for printing whenever this object is printed\"\n",
    "        return \"Collision table:\" + \\\n",
    "               \" size:\" + str(self.size) + \\\n",
    "               \" overfullCount:\" + str(self.overfullCount) + \\\n",
    "               \" dictionary:\" + str(len(self.dictionary)) + \" items\"\n",
    "\n",
    "    def count (self):\n",
    "        return len(self.dictionary)\n",
    "    \n",
    "    def fullp (self):\n",
    "        return len(self.dictionary) >= self.size\n",
    "    \n",
    "    def getindex (self, obj, readonly=False):\n",
    "        d = self.dictionary\n",
    "        if obj in d: return d[obj]\n",
    "        elif readonly: return None\n",
    "        size = self.size\n",
    "        count = self.count()\n",
    "        if count >= size:\n",
    "            if self.overfullCount==0: print('IHT full, starting to allow collisions')\n",
    "            self.overfullCount += 1\n",
    "            return basehash(obj) % self.size\n",
    "        else:\n",
    "            d[obj] = count\n",
    "            return count\n",
    "\n",
    "def hashcoords(coordinates, m, readonly=False):\n",
    "    if type(m)==IHT: return m.getindex(tuple(coordinates), readonly)\n",
    "    if type(m)==int: return basehash(tuple(coordinates)) % m\n",
    "    if m==None: return coordinates\n",
    "\n",
    "\n",
    "\n",
    "def tiles (ihtORsize, numtilings, floats, ints=[], readonly=False):\n",
    "    \"\"\"returns num-tilings tile indices corresponding to the floats and ints\"\"\"\n",
    "    qfloats = [floor(f*numtilings) for f in floats]\n",
    "    Tiles = []\n",
    "    for tiling in range(numtilings):\n",
    "        tilingX2 = tiling*2\n",
    "        coords = [tiling]\n",
    "        b = tiling\n",
    "        for q in qfloats:\n",
    "            coords.append( (q + b) // numtilings )\n",
    "            b += tilingX2\n",
    "        coords.extend(ints)\n",
    "        Tiles.append(hashcoords(coords, ihtORsize, readonly))\n",
    "    return Tiles\n"
   ]
  },
  {
   "cell_type": "code",
   "execution_count": 11,
   "metadata": {},
   "outputs": [
    {
     "name": "stdout",
     "output_type": "stream",
     "text": [
      "[0, 1, 2, 3, 4, 5, 6, 7]\n",
      "[0, 1, 2, 3, 4, 8, 6, 7]\n"
     ]
    }
   ],
   "source": [
    "iht = IHT(2048)\n",
    "print(tiles(iht, 8, [1,2], [0]))\n",
    "print(tiles(iht, 8, [1,2.2], [0]))"
   ]
  },
  {
   "cell_type": "code",
   "execution_count": null,
   "metadata": {},
   "outputs": [],
   "source": []
  },
  {
   "cell_type": "code",
   "execution_count": null,
   "metadata": {},
   "outputs": [],
   "source": []
  },
  {
   "cell_type": "code",
   "execution_count": null,
   "metadata": {},
   "outputs": [],
   "source": []
  },
  {
   "cell_type": "code",
   "execution_count": null,
   "metadata": {},
   "outputs": [],
   "source": []
  },
  {
   "cell_type": "markdown",
   "metadata": {},
   "source": [
    "### Semi-gradient SARSA\n",
    "<img src=\"images/M7A1-P2.png\" alt=\"M4A1-P3\" width=\"500\"/>"
   ]
  },
  {
   "cell_type": "code",
   "execution_count": 12,
   "metadata": {},
   "outputs": [],
   "source": [
    "class semi_gradient_sarsa_control(object):\n",
    "    def __init__(self, env : gym.envs, gamma : float = 1, alpha : float = 0.01, epsilon_max : float = 1, n_tiles :int = 8,\\\n",
    "                epsilon_min : float = 0.005, state_action_rep_size :int = 2048, n_tilings : int = 8, n_episode = 10000) -> None:\n",
    "        self.env = env\n",
    "        self.gamma = gamma\n",
    "        self.n_episode = n_episode\n",
    "        self.epsilon = epsilon_max\n",
    "        self.decay = (epsilon_max - epsilon_min)/n_episode\n",
    "        self.alpha = alpha\n",
    "        self.state_action_rep_size = state_action_rep_size\n",
    "        self.n_tilings = n_tilings\n",
    "        self.n_tiles = n_tiles\n",
    "        self.iht = IHT(state_action_rep_size)\n",
    "        self.weights = np.zeros(state_action_rep_size)\n",
    "        \n",
    "    def get_state_action_representation(self, state : List, action : int) -> List:\n",
    "        '''\n",
    "        Return binary vector of size 'state_action_rep_size' as the representation for state-action pair.\n",
    "        State is a vector of two values. Action is an integer.\n",
    "        '''\n",
    "        state_action_rep = np.zeros(self.state_action_rep_size)\n",
    "        x_scale = self.n_tiles / (self.env.observation_space.high[0] - self.env.observation_space.low[0])\n",
    "        v_scale = self.n_tiles / (self.env.observation_space.high[1] - self.env.observation_space.low[1])\n",
    "        t = tiles(self.iht, self.n_tilings, [state[0] * x_scale, state[1] * v_scale], [action])\n",
    "        state_action_rep[t] = 1\n",
    "        return state_action_rep\n",
    "        \n",
    "        \n",
    "    \n",
    "    def action_value_function(self, state : List, action : int ) -> float:\n",
    "        '''\n",
    "        Return the state-action value for the state,action pair.\n",
    "        State is a vector of two values. Action is an integer\n",
    "        '''\n",
    "        \n",
    "        return np.dot(self.weights, self.get_state_action_representation(state,action))\n",
    "        \n",
    "    \n",
    "    def policy(self, state : List) -> object:\n",
    "        '''\n",
    "        Epsilon greedy policy.\n",
    "        '''\n",
    "        eps = np.random.uniform()\n",
    "        if(eps < self.epsilon):\n",
    "            action = np.random.choice(range(self.env.action_space.n))\n",
    "            state_action_value = self.action_value_function(state,action)\n",
    "        else:\n",
    "            action = -1\n",
    "            state_action_value = float(\"-inf\")\n",
    "            for a in range(self.env.action_space.n):\n",
    "                value = self.action_value_function(state, a)\n",
    "                if(value > state_action_value):\n",
    "                    action = a\n",
    "                    state_action_value = value\n",
    "        return action, state_action_value\n",
    "        \n",
    "    \n",
    "    def optimize_policy(self) -> None:\n",
    "        '''\n",
    "        Use semi-gradient SARSA to find optimal policy. \n",
    "        '''\n",
    "        \n",
    "        self.all_rewards = []\n",
    "        solved = False\n",
    "        solved_in = -1\n",
    "        for epiosde_num in range(self.n_episode):\n",
    "            state = self.env.reset()\n",
    "            action, action_value = self.policy(state)\n",
    "            total_reward = 0\n",
    "            while(True):\n",
    "                next_state, reward, done, info = self.env.step(action)\n",
    "                if(done):\n",
    "                    target = reward\n",
    "                else:\n",
    "                    next_action, next_action_value = self.policy(next_state)\n",
    "                    target = reward + self.gamma * next_action_value\n",
    "                self.weights = self.weights + self.alpha * (target - action_value) * self.get_state_action_representation(state,action)\n",
    "                total_reward = total_reward + reward\n",
    "                if(done):\n",
    "                    self.all_rewards.append(total_reward)\n",
    "                    if((epiosde_num + 1)%100 == 0):\n",
    "                        print(\"\\r Episode {}/{} \\t | Avg. reward : {}\".format(epiosde_num + 1, self.n_episode, np.mean(self.all_rewards[-100:])))\n",
    "                        sys.stdout.flush()\n",
    "                    if(np.mean(self.all_rewards[-100:]) >= -110):\n",
    "                        solved = True\n",
    "                        solved_in = epiosde_num + 1\n",
    "                    break\n",
    "                state = next_state\n",
    "                action = next_action\n",
    "                action_value = next_action_value\n",
    "            self.epsilon = self.epsilon - self.decay\n",
    "            \n",
    "            if(solved):\n",
    "                print(\"\\n Solved in {} episodes!!\".format(solved_in))\n",
    "                self.play()\n",
    "                break\n",
    "        self.plot_rewards()\n",
    "        \n",
    "        \n",
    "        \n",
    "    \n",
    "    def play(self) -> None:\n",
    "        '''\n",
    "        Visulatize the learned agent.\n",
    "        '''\n",
    "        for i in range(10):\n",
    "            state = self.env.reset()\n",
    "            while(True):\n",
    "                self.env.render()\n",
    "                action, _  = self.policy(state)\n",
    "                next_state, reward, done, info = self.env.step(action)\n",
    "                if(done):\n",
    "                    break\n",
    "                state = next_state\n",
    "            self.env.close()\n",
    "                \n",
    "    def plot_rewards(self) -> None:\n",
    "        '''\n",
    "        Plot the reward.\n",
    "        '''\n",
    "        def moving_average(x, w):\n",
    "            return np.convolve(x, np.ones(w), 'valid') / w\n",
    "        fig = plt.figure()\n",
    "        averaged_rolling_rewards = moving_average(self.all_rewards,100)\n",
    "        plt.plot(range(len(averaged_rolling_rewards)), averaged_rolling_rewards)\n",
    "        plt.xlabel('Episode')\n",
    "        plt.ylabel(\"Avg. rewards\")\n",
    "        plt.show()\n",
    "                    \n",
    "            "
   ]
  },
  {
   "cell_type": "code",
   "execution_count": 13,
   "metadata": {},
   "outputs": [
    {
     "name": "stdout",
     "output_type": "stream",
     "text": [
      " Episode 100/10000 \t | Avg. reward : -193.5\n",
      " Episode 200/10000 \t | Avg. reward : -156.02\n",
      " Episode 300/10000 \t | Avg. reward : -136.07\n",
      " Episode 400/10000 \t | Avg. reward : -135.97\n",
      " Episode 500/10000 \t | Avg. reward : -122.95\n",
      " Episode 600/10000 \t | Avg. reward : -119.56\n",
      " Episode 700/10000 \t | Avg. reward : -129.48\n",
      " Episode 800/10000 \t | Avg. reward : -115.93\n",
      "\n",
      " Solved in 842 episodes!!\n"
     ]
    },
    {
     "data": {
      "image/png": "[encoded data removed]",
      "text/plain": [
       "<Figure size 432x288 with 1 Axes>"
      ]
     },
     "metadata": {
      "needs_background": "light"
     },
     "output_type": "display_data"
    }
   ],
   "source": [
    "env = gym.make('MountainCar-v0')\n",
    "semi_gradient_sarsa_control_agent = semi_gradient_sarsa_control(env, epsilon_max=0, epsilon_min=0, alpha=0.2/8)\n",
    "semi_gradient_sarsa_control_agent.optimize_policy()"
   ]
  },
  {
   "cell_type": "code",
   "execution_count": null,
   "metadata": {},
   "outputs": [],
   "source": []
  }
 ],
 "metadata": {
  "kernelspec": {
   "display_name": "Python 3",
   "language": "python",
   "name": "python3"
  },
  "language_info": {
   "codemirror_mode": {
    "name": "ipython",
    "version": 3
   },
   "file_extension": ".py",
   "mimetype": "text/x-python",
   "name": "python",
   "nbconvert_exporter": "python",
   "pygments_lexer": "ipython3",
   "version": "3.7.3"
  }
 },
 "nbformat": 4,
 "nbformat_minor": 2
}
