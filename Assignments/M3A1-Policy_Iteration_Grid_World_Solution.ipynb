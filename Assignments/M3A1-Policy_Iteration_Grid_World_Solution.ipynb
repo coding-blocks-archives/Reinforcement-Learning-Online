{
 "cells": [
  {
   "cell_type": "markdown",
   "metadata": {},
   "source": [
    "## Grid World"
   ]
  },
  {
   "cell_type": "markdown",
   "metadata": {},
   "source": [
    "Here's the gridworld example (Example 4.1 of [Reinforcement Learning: An Introduction](http://incompleteideas.net/book/RLbook2018.pdf)). \n",
    "\n",
    "- State 0 and 15 are the terminal states.\n",
    "- Agent is allowed to move UP, RIGHT, DOWN and LEFT.\n",
    "- Each action deterministically cause the state transitions, except that actions which would take our agent off the grid, in such case the state remains unchanged.\n",
    "- Reward of -1 on all transitions.\n",
    "- Undiscounted and episodic.\n",
    "\n",
    "We will solve this problem i.e. find the optimal oplicy using policy iterations\n",
    "\n",
    "![title](images/M3A1-P1.png)"
   ]
  },
  {
   "cell_type": "code",
   "execution_count": 1,
   "metadata": {},
   "outputs": [],
   "source": [
    "import numpy as np\n",
    "import matplotlib.pyplot as plt\n",
    "from matplotlib import colors"
   ]
  },
  {
   "cell_type": "code",
   "execution_count": 2,
   "metadata": {},
   "outputs": [],
   "source": [
    "class grid_world_environment(object):\n",
    "    def __init__(self, n_row : int = 4, n_col : int = 4) -> None:\n",
    "        '''\n",
    "        @paramenters\n",
    "        n_row  : Number of rows in the grid\n",
    "        n_col  : Number of columns in the grid\n",
    "        \n",
    "        @doc\n",
    "        Initializes the gridword of size (n_row, n_col)\n",
    "        '''\n",
    "        self.n_row = n_row\n",
    "        self.n_col = n_col\n",
    "        self.n_states = self.n_row * self.n_col\n",
    "        self.n_actions = 4\n",
    "        self.states = np.arange(self.n_states)\n",
    "        self.actions = np.arange(self.n_actions) #0:up , 1:right, 2:down, 3:left\n",
    "        self.terminal_states = [0,self.n_states-1]\n",
    "        self.non_terminal_states = list(set(self.states) - set(self.terminal_states))\n",
    "           \n",
    "    def p(self, s :int, a : int, s_dash : int) -> None:\n",
    "        '''\n",
    "        @parameters\n",
    "        s       : current state\n",
    "        a       : action taken\n",
    "        s_dash  : prospective next state\n",
    "        \n",
    "        @doc\n",
    "        Returns the probbaility of transitioning to state 's_dash', if agent takes action 'a' in state 's' \n",
    "        '''\n",
    "        assert a in self.actions\n",
    "        if(a == 0): #Move up\n",
    "            if(s - self.n_col < 0 and s_dash == s):\n",
    "                return 1 \n",
    "            elif(s_dash == s - self.n_col):\n",
    "                return 1\n",
    "            else:\n",
    "                return 0\n",
    "        \n",
    "        if(a == 1): #Move right\n",
    "            if((s + 1)%self.n_col == 0 and s_dash == s):\n",
    "                return 1\n",
    "            elif((s + 1)%self.n_col != 0 and s_dash == s + 1):\n",
    "                return 1\n",
    "            else:\n",
    "                return 0\n",
    "            \n",
    "        if(a == 2): #Move down\n",
    "            if(s + self.n_col >= self.n_states and s_dash == s):\n",
    "                return 1\n",
    "            elif(s_dash == s + self.n_col):\n",
    "                return 1\n",
    "            else:\n",
    "                return 0\n",
    "        \n",
    "        if(a == 3): #Move left\n",
    "            if(s%self.n_col == 0 and s_dash == s):\n",
    "                return 1\n",
    "            elif(s%self.n_col != 0 and s_dash == s - 1):\n",
    "                return 1\n",
    "            else:\n",
    "                return 0\n",
    "    \n",
    "    def reward(self, s_dash : int) -> float:\n",
    "        '''\n",
    "        @parameter\n",
    "        s_dash    : The state agent is transitioning into\n",
    "        \n",
    "        @doc\n",
    "        Return the reward if agent transtions to state 's_dash'\n",
    "        '''\n",
    "        return -1"
   ]
  },
  {
   "cell_type": "markdown",
   "metadata": {},
   "source": [
    "## Policy Evaluation"
   ]
  },
  {
   "cell_type": "markdown",
   "metadata": {},
   "source": [
    "<img src=\"images/M3A1-P2.png\" alt=\"M4A1-P3\" width=\"500\"/>"
   ]
  },
  {
   "cell_type": "markdown",
   "metadata": {},
   "source": [
    "## Policy Iteration"
   ]
  },
  {
   "cell_type": "markdown",
   "metadata": {},
   "source": [
    "<img src=\"images/M3A1-P3.png\" alt=\"M4A1-P3\" width=\"500\"/>"
   ]
  },
  {
   "cell_type": "code",
   "execution_count": 7,
   "metadata": {},
   "outputs": [],
   "source": [
    "class agent(object):\n",
    "    def __init__(self, env : grid_world_environment, gamma : float = 1.0, theta : float = 0.001) -> None:\n",
    "        '''\n",
    "        Initializing the agent properties like value function, gamma, theta and the policy. \n",
    "        Initial policy is an equiprobable policy.\n",
    "        '''\n",
    "        self.V = np.zeros((env.n_states))\n",
    "        self.gamma = gamma\n",
    "        self.policy = {}\n",
    "        self.theta = theta\n",
    "        self.env = env\n",
    "        for state in env.non_terminal_states:\n",
    "            for action in env.actions:\n",
    "                self.policy[(state,action)] = 0.25\n",
    "    \n",
    "    def policy_evaluation(self, n_iter : int = 1000) -> None:\n",
    "        '''\n",
    "        In place policy evaluation. Tries to find the tru value function within 'n_iter' number of iterations.\n",
    "        '''\n",
    "        for it in range(n_iter):\n",
    "            delta = 0\n",
    "            for state in self.env.non_terminal_states:\n",
    "                value = 0\n",
    "                for action in self.env.actions:\n",
    "                    for state_dash in self.env.states:\n",
    "                        value += (self.policy[(state,action)] * \\\n",
    "                                          self.env.p(state,action,state_dash) * \\\n",
    "                                          (self.env.reward(state_dash) + self.gamma * self.V[state_dash]))\n",
    "                delta = max(delta,np.abs(self.V[state] - value))\n",
    "                self.V[state] = value\n",
    "            if(delta < self.theta):\n",
    "                print(\"Policy converged to true state values after {} iterations\".format(it+1))\n",
    "                self.plot_value()\n",
    "                return\n",
    "        print(\"Policy did not converge to true state value functions.\")\n",
    "        print(self.V)\n",
    "    \n",
    "    def policy_improvement(self) -> bool:\n",
    "        '''\n",
    "        Policy improvement algorithm. The policy is imporved by acting greedily with repspect to the current value function.\n",
    "        If two actions gives same value, then equal probability is assigned to both of the actions.\n",
    "        Returns True if current policy is same as previous poliy, that is the current policy is the optimal policy. \n",
    "        Else it return false.\n",
    "        '''\n",
    "        policy_stable = False\n",
    "        new_policy = {}\n",
    "        for state in self.env.non_terminal_states:\n",
    "            best_actions = list()\n",
    "            best_value = float(\"-inf\")\n",
    "            for action in self.env.actions:\n",
    "                value = 0\n",
    "                for state_dash in self.env.states:\n",
    "                    value += (self.env.p(state,action,state_dash)*\\\n",
    "                              (self.env.reward(state_dash) + self.gamma * self.V[state_dash]))\n",
    "                if(value == best_value):\n",
    "                    best_actions.append(action)\n",
    "                elif(value > best_value):\n",
    "                    best_value = value\n",
    "                    best_actions = [action]\n",
    "            for action in self.env.actions:\n",
    "                if(action in best_actions):\n",
    "                    new_policy[(state,action)] = 1.0/len(best_actions)\n",
    "                else:\n",
    "                    new_policy[(state,action)] = 0\n",
    "        if(new_policy == self.policy):\n",
    "            policy_stable = True\n",
    "        self.policy = dict(new_policy.items())\n",
    "        return policy_stable\n",
    "    \n",
    "    def policy_iteration(self, n_policy_iter :int = 100, n_policy_eval_iter : int = 1000) -> None:\n",
    "        '''\n",
    "        Policy iteration algorithm. It calls the policy evaluation step and policy improvement step alternately for a max\n",
    "        of 'n_policy_iter' iterations. \n",
    "        '''\n",
    "        for it in range(n_policy_iter):\n",
    "            self.policy_evaluation(n_policy_eval_iter)\n",
    "            policy_stable = self.policy_improvement()\n",
    "            if(policy_stable):\n",
    "                print(\"Optimal policy found after {} iterations\".format(it+1))\n",
    "                return\n",
    "        print(\"Could not find optimal policy.\")\n",
    "    \n",
    "    def plot_value(self) -> None:\n",
    "        '''\n",
    "        Plots the value functions of the sates in the grid.\n",
    "        '''\n",
    "        fig, ax = plt.subplots()\n",
    "        grid_value = np.reshape(self.V , (self.env.n_row, self.env.n_col))\n",
    "        for i in range(self.env.n_col):\n",
    "            for j in range(self.env.n_row):\n",
    "                c = grid_value[j][i]\n",
    "                ax.text(i+0.5, j+0.5, str(round(c,1)), va='center', ha='center')  \n",
    "        ax.set_xlim(0, self.env.n_col)\n",
    "        ax.set_ylim(self.env.n_row, 0)\n",
    "        ax.set_xticks(np.arange(self.env.n_col))\n",
    "        ax.set_yticks(np.arange(self.env.n_row))\n",
    "        ax.grid()\n",
    "        plt.show()"
   ]
  },
  {
   "cell_type": "code",
   "execution_count": 8,
   "metadata": {},
   "outputs": [
    {
     "name": "stdout",
     "output_type": "stream",
     "text": [
      "Policy converged to true state values after 88 iterations\n"
     ]
    },
    {
     "data": {
      "image/png": "[encoded data removed]",
      "text/plain": [
       "<Figure size 432x288 with 1 Axes>"
      ]
     },
     "metadata": {
      "needs_background": "light"
     },
     "output_type": "display_data"
    }
   ],
   "source": [
    "env = grid_world_environment(4,4)\n",
    "ag = agent(env)\n",
    "ag.policy_evaluation()"
   ]
  },
  {
   "cell_type": "code",
   "execution_count": 10,
   "metadata": {},
   "outputs": [
    {
     "name": "stdout",
     "output_type": "stream",
     "text": [
      "Policy converged to true state values after 88 iterations\n"
     ]
    },
    {
     "data": {
      "image/png": "[encoded data removed]",
      "text/plain": [
       "<Figure size 432x288 with 1 Axes>"
      ]
     },
     "metadata": {
      "needs_background": "light"
     },
     "output_type": "display_data"
    },
    {
     "name": "stdout",
     "output_type": "stream",
     "text": [
      "Policy converged to true state values after 3 iterations\n"
     ]
    },
    {
     "data": {
      "image/png": "[encoded data removed]",
      "text/plain": [
       "<Figure size 432x288 with 1 Axes>"
      ]
     },
     "metadata": {
      "needs_background": "light"
     },
     "output_type": "display_data"
    },
    {
     "name": "stdout",
     "output_type": "stream",
     "text": [
      "Policy converged to true state values after 1 iterations\n"
     ]
    },
    {
     "data": {
      "image/png": "[encoded data removed]",
      "text/plain": [
       "<Figure size 432x288 with 1 Axes>"
      ]
     },
     "metadata": {
      "needs_background": "light"
     },
     "output_type": "display_data"
    },
    {
     "name": "stdout",
     "output_type": "stream",
     "text": [
      "Optimal policy found after 3 iterations\n"
     ]
    }
   ],
   "source": [
    "env = grid_world_environment(4,4)\n",
    "ag = agent(env)\n",
    "ag.policy_iteration()"
   ]
  },
  {
   "cell_type": "code",
   "execution_count": null,
   "metadata": {},
   "outputs": [],
   "source": []
  }
 ],
 "metadata": {
  "kernelspec": {
   "display_name": "Python 3",
   "language": "python",
   "name": "python3"
  },
  "language_info": {
   "codemirror_mode": {
    "name": "ipython",
    "version": 3
   },
   "file_extension": ".py",
   "mimetype": "text/x-python",
   "name": "python",
   "nbconvert_exporter": "python",
   "pygments_lexer": "ipython3",
   "version": "3.7.7"
  }
 },
 "nbformat": 4,
 "nbformat_minor": 2
}
