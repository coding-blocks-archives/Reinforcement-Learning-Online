{
 "cells": [
  {
   "cell_type": "markdown",
   "metadata": {},
   "source": [
    "## Cliff-walking"
   ]
  },
  {
   "cell_type": "markdown",
   "metadata": {},
   "source": [
    "1. Undiscounted, episodic task.\n",
    "2. Task is to move from start state (S) to goal state(G)\n",
    "3. Actions : Up, Down, Left and Right.\n",
    "4. Deterministic environment.\n",
    "5. Reward of -1 on all transitions, except those into the region marked as \"Cliff\". Stepping into this region incurs a reward of -100 and sends the agent instantly to the start state.\n",
    "\n",
    "<img src=\"images/M5A1-P1.png\" alt=\"M4A1-P3\" width=\"500\"/>"
   ]
  },
  {
   "cell_type": "code",
   "execution_count": 1,
   "metadata": {},
   "outputs": [],
   "source": [
    "import gym\n",
    "import numpy as np\n",
    "from typing import Callable, List, Tuple, Sequence\n",
    "from collections import defaultdict\n",
    "import sys\n",
    "import plots\n",
    "import matplotlib.pyplot as plt\n",
    "\n",
    "%matplotlib inline"
   ]
  },
  {
   "cell_type": "code",
   "execution_count": 2,
   "metadata": {},
   "outputs": [],
   "source": [
    "class cliff_walking_grid_world(object):\n",
    "    def __init__(self, n_row : int = 4, n_col : int = 12) -> None:\n",
    "        self.n_row = n_row\n",
    "        self.n_col = n_col\n",
    "        self.cliff_states = [(n_row-1,x) for x in range(1,n_col-1)]\n",
    "        self.start_state = (n_row-1,0)\n",
    "        self.goal_state = (n_row-1,n_col-1)\n",
    "        self.n_actions = 4\n",
    "        self.action_space = np.arange(self.n_actions) #0:up , 1:right, 2:down, 3:left\n",
    "        self.reset()\n",
    "    \n",
    "    def reset(self) -> object:\n",
    "        self.cur_state = self.start_state\n",
    "        return self.cur_state\n",
    "        \n",
    "    def step(self, action : int) -> object:\n",
    "        assert action in self.action_space\n",
    "        next_state = None\n",
    "        reward = None\n",
    "        done = False\n",
    "        info = None\n",
    "        if(action == 0):\n",
    "            if(self.cur_state[0] == 0):\n",
    "                next_state = self.cur_state\n",
    "            else:\n",
    "                next_state = (self.cur_state[0]-1,self.cur_state[1])\n",
    "        if(action == 1):\n",
    "            if(self.cur_state[1] == self.n_col-1):\n",
    "                next_state = self.cur_state\n",
    "            else:\n",
    "                next_state = (self.cur_state[0], self.cur_state[1]+1)\n",
    "        if(action == 2):\n",
    "            if(self.cur_state[0] == self.n_row-1):\n",
    "                next_state = self.cur_state\n",
    "            else:\n",
    "                next_state = (self.cur_state[0]+1, self.cur_state[1])\n",
    "        if(action == 3):\n",
    "            if(self.cur_state[1] == 0):\n",
    "                next_state = self.cur_state\n",
    "            else:\n",
    "                next_state = (self.cur_state[0], self.cur_state[1]-1)\n",
    "        \n",
    "        \n",
    "                \n",
    "        if(next_state in self.cliff_states):\n",
    "            reward = -100\n",
    "            next_state = self.start_state\n",
    "        else:\n",
    "            reward = -1\n",
    "        \n",
    "        if(next_state == self.goal_state):\n",
    "            done = True\n",
    "            \n",
    "        self.cur_state = next_state\n",
    "            \n",
    "        return next_state, reward, done, info"
   ]
  },
  {
   "cell_type": "code",
   "execution_count": 3,
   "metadata": {},
   "outputs": [],
   "source": [
    "rewards_dict = {}"
   ]
  },
  {
   "cell_type": "markdown",
   "metadata": {},
   "source": [
    "### SARSA"
   ]
  },
  {
   "cell_type": "markdown",
   "metadata": {},
   "source": [
    "<img src=\"images/M5A1-P2.png\" alt=\"M4A1-P3\" width=\"500\"/>"
   ]
  },
  {
   "cell_type": "code",
   "execution_count": 8,
   "metadata": {},
   "outputs": [],
   "source": [
    "class sarsa(object):\n",
    "    def __init__(self, env : cliff_walking_grid_world, alpha : float = 0.5, epsilon : float = 0.1, gamma : float = 1.0):\n",
    "        '''\n",
    "        Implement this\n",
    "        '''\n",
    "        self.env = env\n",
    "        self.alpha = alpha\n",
    "        self.epsilon = epsilon\n",
    "        self.gamma = gamma\n",
    "        self.Q = defaultdict(lambda : np.zeros(self.env.n_actions))\n",
    "        \n",
    "    def policy(self, state : Tuple) -> int:\n",
    "        '''\n",
    "        @parameters:\n",
    "        state : Tuple representing the state\n",
    "        \n",
    "        @doc\n",
    "        This is the epsilon-greedy behaviour policy. Returns the action selected by the policy.\n",
    "        '''\n",
    "        eps = np.random.random()\n",
    "        \n",
    "        if(eps <= self.epsilon):\n",
    "            return np.random.choice(self.env.action_space)\n",
    "        else:\n",
    "            return np.random.choice(np.where(self.Q[state] == np.max(self.Q[state]))[0])\n",
    "        \n",
    "    \n",
    "    def update_q(self, state : Tuple, action : int, reward : float, next_state : Tuple, next_action : int) -> None:\n",
    "        self.Q[state][action]  = self.Q[state][action] + self.alpha * \\\n",
    "        (reward + self.gamma * self.Q[next_state][next_action] - self.Q[state][action])\n",
    "        \n",
    "    def plot_policy(self) -> None:\n",
    "        fig, ax = plt.subplots()\n",
    "        for j in range(self.env.n_col):\n",
    "            for i in range(self.env.n_row):\n",
    "                c = np.argmax(self.Q[(i,j)])\n",
    "                if(c == 0):\n",
    "                    action = 'U'\n",
    "                if(c == 1):\n",
    "                    action = 'R'\n",
    "                if(c == 2):\n",
    "                    action = 'D'\n",
    "                if(c == 3):\n",
    "                    action = 'L'\n",
    "                if((i,j) in self.env.cliff_states):\n",
    "                    action = '-'\n",
    "                if((i,j) == self.env.goal_state):\n",
    "                    action = 'G'\n",
    "                ax.text(j+0.5, i+0.5, action, va='center', ha='center')  \n",
    "        ax.set_xlim(0, self.env.n_col)\n",
    "        ax.set_ylim(self.env.n_row, 0)\n",
    "        ax.set_xticks(np.arange(self.env.n_col))\n",
    "        ax.set_yticks(np.arange(self.env.n_row))\n",
    "        ax.grid()\n",
    "        plt.show()"
   ]
  },
  {
   "cell_type": "code",
   "execution_count": 9,
   "metadata": {},
   "outputs": [
    {
     "name": "stdout",
     "output_type": "stream",
     "text": [
      "Run 100/100."
     ]
    },
    {
     "data": {
      "image/png": "[encoded data removed]",
      "text/plain": [
       "<Figure size 432x288 with 1 Axes>"
      ]
     },
     "metadata": {
      "needs_background": "light"
     },
     "output_type": "display_data"
    },
    {
     "data": {
      "image/png": "[encoded data removed]",
      "text/plain": [
       "<Figure size 432x288 with 1 Axes>"
      ]
     },
     "metadata": {
      "needs_background": "light"
     },
     "output_type": "display_data"
    }
   ],
   "source": [
    "num_runs = 100\n",
    "num_episodes = 600\n",
    "\n",
    "rewards_all_run = []\n",
    "for run_number in range(num_runs):\n",
    "    if((run_number+1)%10 == 0):\n",
    "        print(\"\\rRun {}/{}.\".format(run_number+1, num_runs), end=\"\")\n",
    "        sys.stdout.flush()\n",
    "    env = cliff_walking_grid_world()\n",
    "    agent = sarsa(env)\n",
    "    rewards = []\n",
    "\n",
    "    for episode_number in range(num_episodes):\n",
    "        state = env.reset()\n",
    "        action = agent.policy(state)\n",
    "        reward_sum = 0\n",
    "        while(1):\n",
    "            next_state, reward, done, info = env.step(action)\n",
    "            next_action = agent.policy(next_state)\n",
    "            agent.update_q(state, action, reward, next_state, next_action)\n",
    "            reward_sum = reward_sum + reward\n",
    "            state = next_state\n",
    "            action = next_action\n",
    "            if(done):\n",
    "                rewards.append(reward_sum)\n",
    "                break\n",
    "    \n",
    "    rewards_all_run.append(rewards)\n",
    "\n",
    "agent.plot_policy()\n",
    "\n",
    "rewards_dict['SARSA'] = rewards_all_run\n",
    "plots.plot_avg_rewards_cliff_walking(rewards_dict)"
   ]
  },
  {
   "cell_type": "markdown",
   "metadata": {},
   "source": [
    "### Q-Learning"
   ]
  },
  {
   "cell_type": "markdown",
   "metadata": {},
   "source": [
    "<img src=\"images/M5A1-P3.png\" alt=\"M4A1-P3\" width=\"500\"/>"
   ]
  },
  {
   "cell_type": "code",
   "execution_count": null,
   "metadata": {},
   "outputs": [],
   "source": [
    "class q_learning(object):\n",
    "    def __init__(self, env : cliff_walking_grid_world, alpha : float = 0.5, epsilon : float = 0.1, gamma : float = 1.0):\n",
    "        '''\n",
    "        Implement this\n",
    "        '''\n",
    "        \n",
    "    def policy(self, state : Tuple) -> int:\n",
    "        '''\n",
    "        @parameters:\n",
    "        state : Tuple representing the state\n",
    "        \n",
    "        @doc\n",
    "        This is the epsilon-greedy behaviour policy. Returns the action selected by the policy.\n",
    "        '''\n",
    "        '''\n",
    "        Implement this\n",
    "        '''\n",
    "    \n",
    "    def update_q(self, state, action, reward, next_state):\n",
    "        '''\n",
    "        Implement this\n",
    "        '''\n",
    "        \n",
    "    def plot_policy(self) -> None:\n",
    "        fig, ax = plt.subplots()\n",
    "        for j in range(self.env.n_col):\n",
    "            for i in range(self.env.n_row):\n",
    "                c = np.argmax(self.Q[(i,j)])\n",
    "                if(c == 0):\n",
    "                    action = 'U'\n",
    "                if(c == 1):\n",
    "                    action = 'R'\n",
    "                if(c == 2):\n",
    "                    action = 'D'\n",
    "                if(c == 3):\n",
    "                    action = 'L'\n",
    "                if((i,j) in self.env.cliff_states):\n",
    "                    action = '-'\n",
    "                if((i,j) == self.env.goal_state):\n",
    "                    action = 'G'\n",
    "                ax.text(j+0.5, i+0.5, action, va='center', ha='center')  \n",
    "        ax.set_xlim(0, self.env.n_col)\n",
    "        ax.set_ylim(self.env.n_row, 0)\n",
    "        ax.set_xticks(np.arange(self.env.n_col))\n",
    "        ax.set_yticks(np.arange(self.env.n_row))\n",
    "        ax.grid()\n",
    "        plt.show()"
   ]
  },
  {
   "cell_type": "code",
   "execution_count": null,
   "metadata": {},
   "outputs": [],
   "source": [
    "num_runs = 100\n",
    "num_episodes = 600\n",
    "\n",
    "rewards_all_run = []\n",
    "for run_number in range(num_runs):\n",
    "    if((run_number+1)%10 == 0):\n",
    "        print(\"\\rRun {}/{}.\".format(run_number+1, num_runs), end=\"\")\n",
    "        sys.stdout.flush()\n",
    "    env = cliff_walking_grid_world()\n",
    "    agent = q_learning(env)\n",
    "    rewards = []\n",
    "\n",
    "    for episode_number in range(num_episodes):\n",
    "        '''\n",
    "        Implement this\n",
    "        '''\n",
    "    rewards_all_run.append(rewards)\n",
    "\n",
    "agent.plot_policy()\n",
    "rewards_dict['Q-Learning'] = rewards_all_run\n",
    "plots.plot_avg_rewards_cliff_walking(rewards_dict)"
   ]
  },
  {
   "cell_type": "code",
   "execution_count": null,
   "metadata": {},
   "outputs": [],
   "source": []
  },
  {
   "cell_type": "code",
   "execution_count": null,
   "metadata": {},
   "outputs": [],
   "source": []
  },
  {
   "cell_type": "code",
   "execution_count": null,
   "metadata": {},
   "outputs": [],
   "source": []
  }
 ],
 "metadata": {
  "kernelspec": {
   "display_name": "Python 3",
   "language": "python",
   "name": "python3"
  },
  "language_info": {
   "codemirror_mode": {
    "name": "ipython",
    "version": 3
   },
   "file_extension": ".py",
   "mimetype": "text/x-python",
   "name": "python",
   "nbconvert_exporter": "python",
   "pygments_lexer": "ipython3",
   "version": "3.7.3"
  }
 },
 "nbformat": 4,
 "nbformat_minor": 2
}
